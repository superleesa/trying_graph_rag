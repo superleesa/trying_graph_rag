{
 "cells": [
  {
   "cell_type": "markdown",
   "metadata": {},
   "source": [
    "# Test Community Summarization"
   ]
  },
  {
   "cell_type": "code",
   "execution_count": 1,
   "metadata": {},
   "outputs": [],
   "source": [
    "import json\n",
    "\n",
    "from trying_graph_rag.graph_rag.types import (\n",
    "    CommunityReport,\n",
    "    SummarizedCommunity,\n",
    ")\n"
   ]
  },
  {
   "cell_type": "code",
   "execution_count": 2,
   "metadata": {},
   "outputs": [],
   "source": [
    "ollama_response = \"\"\"```json\n",
    "{\n",
    "    \"title\": \"Dr. Carter and GreenTech Innovations at the Global Science Conference\",\n",
    "    \"summary\": \"This report focuses on Dr. Emily Carter's research on renewable energy technologies, her presentation at a conference, and the work of GreenTech Innovations in developing innovative solar panel designs. The report highlights their potential impact on the global science community.\",\n",
    "    \"rating\": 7.5,\n",
    "    \"rating_explanation\": \"The entities involved have significant influence within the scientific community and hold potential for impactful innovation.\",\n",
    "    \"findings\": [\n",
    "        {\n",
    "            \"summary\": \"Dr. Emily Carter is a scientist specializing in renewable energy technologies who has presented her research at a conference.\",\n",
    "            \"explanation\": \"Dr. Carter's expertise in renewable energy technologies, as evidenced by her presentation at the Global Science Conference, suggests she holds significant knowledge and influence within this field.\"\n",
    "        },\n",
    "        {\n",
    "            \"summary\": \"GreenTech Innovations is an organization developing innovative solar panel designs for a global audience.\",\n",
    "            \"explanation\": \"GreenTech Innovations' focus on developing novel solar panel designs indicates their potential to contribute significantly to the advancement of renewable energy technologies.\"\n",
    "        },\n",
    "        {\n",
    "            \"summary\": \"The Global Science Conference in Berlin brought together scientists and researchers from around the world.\",\n",
    "            \"explanation\": \"The Global Science Conference, a platform for scientific exchange, highlights the global reach and impact of Dr. Carter's research and GreenTech Innovations' innovations.\"\n",
    "        }\n",
    "    ]\n",
    "}\n",
    "``` \"\"\""
   ]
  },
  {
   "cell_type": "code",
   "execution_count": 3,
   "metadata": {},
   "outputs": [],
   "source": [
    "community_id = 3\n",
    "hierarchy_level = 2\n",
    "ollama_response = ollama_response.strip()\n",
    "if ollama_response.startswith(\"```json\") and ollama_response.endswith(\"```\"):\n",
    "    ollama_response = ollama_response[7:-3].strip()\n",
    "\n",
    "community_report = CommunityReport(**json.loads(ollama_response))\n",
    "formatted_community = SummarizedCommunity(\n",
    "    community_id=community_id, hierachy_level=hierarchy_level, community_report=community_report\n",
    ")"
   ]
  },
  {
   "cell_type": "code",
   "execution_count": 4,
   "metadata": {},
   "outputs": [
    {
     "data": {
      "text/plain": [
       "SummarizedCommunity(community_id=3, hierachy_level=2, community_report=CommunityReport(title='Dr. Carter and GreenTech Innovations at the Global Science Conference', summary=\"This report focuses on Dr. Emily Carter's research on renewable energy technologies, her presentation at a conference, and the work of GreenTech Innovations in developing innovative solar panel designs. The report highlights their potential impact on the global science community.\", rating=7.5, rating_explanation='The entities involved have significant influence within the scientific community and hold potential for impactful innovation.', findings=[Findings(summary='Dr. Emily Carter is a scientist specializing in renewable energy technologies who has presented her research at a conference.', explanation=\"Dr. Carter's expertise in renewable energy technologies, as evidenced by her presentation at the Global Science Conference, suggests she holds significant knowledge and influence within this field.\"), Findings(summary='GreenTech Innovations is an organization developing innovative solar panel designs for a global audience.', explanation=\"GreenTech Innovations' focus on developing novel solar panel designs indicates their potential to contribute significantly to the advancement of renewable energy technologies.\"), Findings(summary='The Global Science Conference in Berlin brought together scientists and researchers from around the world.', explanation=\"The Global Science Conference, a platform for scientific exchange, highlights the global reach and impact of Dr. Carter's research and GreenTech Innovations' innovations.\")]))"
      ]
     },
     "execution_count": 4,
     "metadata": {},
     "output_type": "execute_result"
    }
   ],
   "source": [
    "formatted_community"
   ]
  }
 ],
 "metadata": {
  "kernelspec": {
   "display_name": "ai-assignment4-env",
   "language": "python",
   "name": "python3"
  },
  "language_info": {
   "codemirror_mode": {
    "name": "ipython",
    "version": 3
   },
   "file_extension": ".py",
   "mimetype": "text/x-python",
   "name": "python",
   "nbconvert_exporter": "python",
   "pygments_lexer": "ipython3",
   "version": "3.12.0"
  }
 },
 "nbformat": 4,
 "nbformat_minor": 2
}
