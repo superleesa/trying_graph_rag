{
 "cells": [
  {
   "cell_type": "code",
   "execution_count": 4,
   "metadata": {},
   "outputs": [],
   "source": [
    "import ollama\n",
    "\n",
    "from trying_graph_rag.graph_rag.types import Entity, Relationship"
   ]
  },
  {
   "cell_type": "code",
   "execution_count": 1,
   "metadata": {},
   "outputs": [],
   "source": [
    "with open(\"../trying_graph_rag/graph_rag/prompts/entities_and_relationships_extraction.txt\") as file:\n",
    "    PROMPT = file.read()"
   ]
  },
  {
   "cell_type": "code",
   "execution_count": 52,
   "metadata": {},
   "outputs": [],
   "source": [
    "def parse_output(output: str, tuple_delimiter: str = r'<>', record_delimiter: str = '\\n', completion_delimiter: str = '###END###'):\n",
    "    output = output.replace(completion_delimiter, '')\n",
    "    records = output.strip().split(record_delimiter)\n",
    "    \n",
    "    entities: list[Entity] = []\n",
    "    relationships: list[Relationship] = []\n",
    "    \n",
    "    for record in records:\n",
    "        record = record.strip().lstrip('(').rstrip(')')\n",
    "        # skip empty records\n",
    "        if not record:\n",
    "            continue\n",
    "        \n",
    "        record_content = [record_field.strip().strip(\"'\\\"\") for record_field in record.split(tuple_delimiter)]\n",
    "        \n",
    "        # skip empty records pt2\n",
    "        if not len(record_content) or not all(record_content):\n",
    "            continue\n",
    "        \n",
    "        record_type = record_content[0]\n",
    "        if record_type not in ['entity', 'relationship']:\n",
    "            raise ValueError(f\"Invalid record type: {record_content}\")\n",
    "        \n",
    "        if record_type == 'entity' and len(record_content) == 4:\n",
    "            entity = Entity(\n",
    "                name=record_content[1],\n",
    "                type=record_content[2],\n",
    "                description=record_content[3]\n",
    "            )\n",
    "            entities.append(entity)\n",
    "        elif record_type == 'relationship' and len(record_content) == 5:\n",
    "            try:\n",
    "                relationship_strength = int(record_content[4])\n",
    "            except ValueError:\n",
    "                raise ValueError(\"Invalid relationship strength\")\n",
    "            \n",
    "            relationship = Relationship(\n",
    "                source_entity=record_content[1],\n",
    "                target_entity=record_content[2],\n",
    "                description=record_content[3],\n",
    "                strength=relationship_strength\n",
    "            )\n",
    "            relationships.append(relationship)\n",
    "        else:\n",
    "            print(f\"Invalid record format: {record}\")\n",
    "    \n",
    "    return entities, relationships"
   ]
  },
  {
   "cell_type": "code",
   "execution_count": 53,
   "metadata": {},
   "outputs": [],
   "source": [
    "def extract_entities_and_relationships(document: str, entity_types: list[str], tuple_delimiter: str = r'<>', record_delimiter: str = '\\n', completion_delimiter: str = '###END###') -> str:\n",
    "    ollama_response = ollama.generate(model='gemma2:2b', prompt=PROMPT.format(input_text=document, entity_types=str(entity_types)[1:-1], tuple_delimiter=tuple_delimiter, record_delimiter=record_delimiter, completion_delimiter=completion_delimiter), options={\"temperature\": 0})\n",
    "    \n",
    "    content = ollama_response['response']\n",
    "    return parse_output(content, tuple_delimiter, record_delimiter, completion_delimiter)"
   ]
  },
  {
   "cell_type": "code",
   "execution_count": 54,
   "metadata": {},
   "outputs": [
    {
     "name": "stdout",
     "output_type": "stream",
     "text": [
      "\"entity\"<>\"fox\"<>\"animal\"<>\"A small, agile animal known for its reddish-brown fur and swiftness.\"\n",
      "['entity', 'fox', 'animal', 'A small, agile animal known for its reddish-brown fur and swiftness.']\n",
      "=============\n",
      "\"entity\"<>\"dog\"<>\"animal\"<>\"A domesticated canine with a thick coat of fur and a wagging tail.\"\n",
      "['entity', 'dog', 'animal', 'A domesticated canine with a thick coat of fur and a wagging tail.']\n",
      "=============\n",
      "\"\"\"\n"
     ]
    },
    {
     "data": {
      "text/plain": [
       "([Entity(entity_name='fox', entity_type='animal', entity_description='A small, agile animal known for its reddish-brown fur and swiftness.'),\n",
       "  Entity(entity_name='dog', entity_type='animal', entity_description='A domesticated canine with a thick coat of fur and a wagging tail.')],\n",
       " [])"
      ]
     },
     "execution_count": 54,
     "metadata": {},
     "output_type": "execute_result"
    }
   ],
   "source": [
    "document = \"The quick brown fox jumps over the lazy dog.\"\n",
    "entity_types = ['animal', 'color']\n",
    "extract_entities_and_relationships(document, entity_types)"
   ]
  }
 ],
 "metadata": {
  "kernelspec": {
   "display_name": "ai-assignment4-env",
   "language": "python",
   "name": "python3"
  },
  "language_info": {
   "codemirror_mode": {
    "name": "ipython",
    "version": 3
   },
   "file_extension": ".py",
   "mimetype": "text/x-python",
   "name": "python",
   "nbconvert_exporter": "python",
   "pygments_lexer": "ipython3",
   "version": "3.12.0"
  }
 },
 "nbformat": 4,
 "nbformat_minor": 2
}
