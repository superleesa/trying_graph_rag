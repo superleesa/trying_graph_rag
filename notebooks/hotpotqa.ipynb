{
 "cells": [
  {
   "cell_type": "code",
   "execution_count": 18,
   "metadata": {},
   "outputs": [],
   "source": [
    "import ijson\n",
    "from pprint import pprint\n",
    "\n",
    "desired_number_of_records = 1  # Change this to the number of records you want to load\n",
    "\n",
    "with open('/Users/sho/Monash/FIT5047/project/chunking_strategies/sample_dev_pred.json', 'r') as f:\n",
    "    parser = ijson.items(f, 'item')  # 'item' depends on your JSON structure\n",
    "    for i, item in enumerate(parser):\n",
    "        if i >= desired_number_of_records:\n",
    "            break\n",
    "        # Process the item\n",
    "        pprint(item)"
   ]
  },
  {
   "cell_type": "code",
   "execution_count": 6,
   "metadata": {},
   "outputs": [
    {
     "data": {
      "text/plain": [
       "'What year did the British politician born in 1967 began to represent the Daventry in the UK House of Commons?'"
      ]
     },
     "execution_count": 6,
     "metadata": {},
     "output_type": "execute_result"
    }
   ],
   "source": [
    "item[\"question\"]"
   ]
  },
  {
   "cell_type": "code",
   "execution_count": 7,
   "metadata": {},
   "outputs": [
    {
     "data": {
      "text/plain": [
       "[['Philip Cowley',\n",
       "  ['Philip Cowley is a British political scientist and an academic at Queen Mary University of London in the School of Politics and International Relations.',\n",
       "   ' He previously held the same title at the University of Nottingham.',\n",
       "   ' Within academia he is particularly notable for his analysis of Parliamentary voting behaviour in the UK House of Commons and House of Lords and secondly his opposition to a lowering of the UK voting age below 18.']],\n",
       " ['Jo Stevens',\n",
       "  ['Joanna Meriel Stevens (born 6 September 1966) is a Welsh Labour Party politician in the UK House of Commons.',\n",
       "   ' She was elected as the Member of Parliament (MP) for Cardiff Central in the May 2015 general election.']],\n",
       " ['Ziya Meral',\n",
       "  ['Ziya Meral is a London-based Turkish-British researcher and writer.',\n",
       "   ' He is an expert on Turkey, Middle East, human rights and religious freedom, religion and violent conflict, defence and security issues.',\n",
       "   ' He regularly gives talks and lectures in leading academic institutions and conferences.',\n",
       "   ' He spoke at briefings and events at the UK House of Commons and House of Lords and the U.S. Congress.',\n",
       "   ' During 2010–2011, he was a Joseph Crapa Fellow at the US Commission on International Religious Freedom (USCIRF)- a federal body that produces policy proposals for the US government, researching on prevention of ethno-religious violence.',\n",
       "   \" He is a Resident Fellow at the UK Army's new independent think-tank, the Centre for Historical Analysis and Conflict Research, based at the Royal Military Academy Sandhurst.\",\n",
       "   ' He is also the founding Director of the Centre on Religion and Global Affairs- a London, Accra and Beirut based initiative.']],\n",
       " ['Gavin Robinson',\n",
       "  ['Gavin Robinson (born November 1984) is a Democratic Unionist Party politician from Belfast in Northern Ireland.',\n",
       "   ' A barrister by profession, he was Lord Mayor of Belfast in 2012–2013 and has been MP for Belfast East in the UK House of Commons since the 2015 general election.']],\n",
       " ['Palacio Legislativo de San Lázaro',\n",
       "  ['The Saint Lazarus Legislative Palace (Spanish: \"Palacio Legislativo de San Lázaro\") is the main seat of the legislative power of the Mexican government, being the permanent meeting place of the Chamber of Deputies (equivalent to the House of Representatives or House of Commons), as well as the seat of the whole \"Congress of the Union\", when the Chamber of Deputies (the lower house) convenes in conjunction with the Senate of the Republic (the upper house; UK House of Lords equivalent).',\n",
       "   ' Built in the late 20th century after a 1977 political reform, the complex is located in Mexico City about a mile east of the Zócalo central square, in the Venustiano Carranza borough or district, next to the Palace of Federal Justice.',\n",
       "   ' The complex draws its name from its location, as the Saint Lazarus Railway Station was the former occupant of the grounds where the palace was built.']],\n",
       " ['Samuel Storey',\n",
       "  ['Samuel Storey (1841–1925) was a British politician born in County Durham.',\n",
       "   ' He became a Member of Parliament for Sunderland and the main founder of the \"Sunderland Echo\" newspaper.']],\n",
       " ['William Archibald Macdonald',\n",
       "  ['William Archibald Macdonald (1841 – 5 October 1911) was an Irish nationalist politician and MP.',\n",
       "   \" in the House of Commons of the United Kingdom of Great Britain and Ireland and as member of the Irish Parliamentary Party represented Queen's County Ossory, 1886–92, and a supporter of Charles Stewart Parnell.\",\n",
       "   ' He was one of the small number of blind people who have ever been members of the UK House of Commons.']],\n",
       " ['Cranborne Money',\n",
       "  ['Cranborne Money is the common name given to the annual payment to Opposition parties in the UK House of Lords to help them with their costs.',\n",
       "   ' It is named after Lord Cranborne, who was the leader of the House of Lords when it was introduced on 27 November 1996.',\n",
       "   ' Short Money is its counterpart in the House of Commons.']],\n",
       " ['Daventry by-election, 1943',\n",
       "  ['The Daventry by-election, 1943 was a parliamentary by-election for the British House of Commons constituency of Daventry, Northamptonshire on 20 April 1943.']],\n",
       " ['Knights of the Shire',\n",
       "  ['Knights of the shire (Latin: \"milites comitatus\" ) was the formal title for members of parliament (MPs) representing a county constituency in the UK House of Commons, from its origins in the medieval Parliament of England until the Redistribution of Seats Act 1885 ended the practice of each UK county (or \"shire\") forming a single constituency.',\n",
       "   ' The corresponding titles for other MPs were \"burgess\" in a borough constituency (or \"citizen\" if the borough had city status) and \"baron\" for a Cinque Ports constituency.',\n",
       "   ' Knights of the shire had more prestige than burgesses, and sitting burgesses often stood for election for the shire in the hope of increasing their standing in Parliament.']]]"
      ]
     },
     "execution_count": 7,
     "metadata": {},
     "output_type": "execute_result"
    }
   ],
   "source": [
    "item[\"context\"]"
   ]
  },
  {
   "cell_type": "code",
   "execution_count": 24,
   "metadata": {},
   "outputs": [
    {
     "name": "stdout",
     "output_type": "stream",
     "text": [
      "Sampled 100 entries and saved to sampled_test_data.json\n"
     ]
    }
   ],
   "source": [
    "import json\n",
    "import random\n",
    "\n",
    "# Load the dataset\n",
    "with open('/Users/sho/Monash/FIT5047/project/chunking_strategies/sample_dev_pred.json', 'r') as f:\n",
    "    data = json.load(f)\n",
    "\n",
    "# Extract keys and confirm structure\n",
    "answers = data.get(\"answer\", {})\n",
    "supporting_facts = data.get(\"sp\", {})\n",
    "\n",
    "# Ensure both 'answer' and 'sp' have data\n",
    "if not answers or not supporting_facts:\n",
    "    raise ValueError(\"Missing data in 'answer' or 'sp' keys\")\n",
    "\n",
    "# Get list of available IDs\n",
    "available_ids = list(answers.keys())\n",
    "\n",
    "# Sample 100 IDs for testing\n",
    "random.seed(42)\n",
    "sample_ids = random.sample(available_ids, 100)\n",
    "\n",
    "# Construct sampled data using sampled IDs\n",
    "sampled_data = [{\"_id\": _id, \"answer\": answers[_id], \"supporting_facts\": supporting_facts.get(_id)} for _id in sample_ids]\n",
    "\n",
    "# Save the sample to a new JSON file\n",
    "with open(\"/Users/sho/Monash/FIT5047/project/chunking_strategies/sampled_gold_data.json\", \"w\") as f:\n",
    "    json.dump(sampled_data, f, indent=4)\n",
    "\n",
    "print(\"Sampled 100 entries and saved to sampled_test_data.json\")\n"
   ]
  },
  {
   "cell_type": "code",
   "execution_count": 25,
   "metadata": {},
   "outputs": [
    {
     "name": "stdout",
     "output_type": "stream",
     "text": [
      "Sampled 100 entries and saved to sampled_test_data.json\n"
     ]
    }
   ],
   "source": [
    "import json\n",
    "import random\n",
    "\n",
    "# Load the dataset\n",
    "with open('/Users/sho/Monash/FIT5047/project/chunking_strategies/hotpot_dev_distractor_v1.json', 'r') as f:\n",
    "    data = json.load(f)\n",
    "\n",
    "# Ensure the data is a list\n",
    "if not isinstance(data, list):\n",
    "    raise TypeError(\"Expected a list of entries, but got:\", type(data))\n",
    "\n",
    "# Shuffle and select 100 samples\n",
    "random.seed(42)  # Ensures reproducibility\n",
    "sample_data = random.sample(data, 100)\n",
    "\n",
    "# Save the sample for testing\n",
    "with open(\"/Users/sho/Monash/FIT5047/project/chunking_strategies/sampled_gold_data.json\", \"w\") as f:\n",
    "    json.dump(sample_data, f, indent=4)\n",
    "\n",
    "print(\"Sampled 100 entries and saved to sampled_test_data.json\")\n"
   ]
  },
  {
   "cell_type": "code",
   "execution_count": null,
   "metadata": {},
   "outputs": [],
   "source": []
  }
 ],
 "metadata": {
  "kernelspec": {
   "display_name": "Python 3",
   "language": "python",
   "name": "python3"
  },
  "language_info": {
   "codemirror_mode": {
    "name": "ipython",
    "version": 3
   },
   "file_extension": ".py",
   "mimetype": "text/x-python",
   "name": "python",
   "nbconvert_exporter": "python",
   "pygments_lexer": "ipython3",
   "version": "3.11.10"
  }
 },
 "nbformat": 4,
 "nbformat_minor": 2
}
